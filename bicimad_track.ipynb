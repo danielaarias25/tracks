{
 "cells": [
  {
   "cell_type": "code",
   "execution_count": 1,
   "metadata": {},
   "outputs": [],
   "source": [
    "#First, we import the libraries we will need\n",
    "import os\n",
    "import json \n",
    "import pandas as pd\n",
    "from pandas.io.json._normalize import nested_to_record    \n",
    "\n",
    "#We then tell Python where we'll working\n",
    "os.chdir(r'C:\\Users\\Usuario\\Documents\\Daniela Arias\\Tesis\\clases\\ClasesJuanC_15Abril2021\\Practica')"
   ]
  },
  {
   "cell_type": "code",
   "execution_count": 2,
   "metadata": {},
   "outputs": [],
   "source": [
    "#Read file and populate our empty list so that it becomes our list of dictionaries\n",
    "base = []\n",
    "for line in open('201806_Usage_Bicimad.json', 'r'):\n",
    "    base.append(json.loads(line))"
   ]
  },
  {
   "cell_type": "code",
   "execution_count": 5,
   "metadata": {},
   "outputs": [],
   "source": [
    "#clean our dataset a little bit\n",
    "for dic in base: \n",
    "    del dic['user_day_code']\n",
    "    del dic['idplug_base']\n",
    "    del dic['idunplug_base']\n",
    "    del dic['zip_code']"
   ]
  },
  {
   "cell_type": "code",
   "execution_count": 6,
   "metadata": {},
   "outputs": [],
   "source": [
    "#keep only those records that have track data\n",
    "d = [k for k in base if 'track' in k]"
   ]
  },
  {
   "cell_type": "code",
   "execution_count": 7,
   "metadata": {},
   "outputs": [],
   "source": [
    "#Remove nested dictionaries\n",
    "final = nested_to_record(d)"
   ]
  },
  {
   "cell_type": "code",
   "execution_count": 8,
   "metadata": {},
   "outputs": [],
   "source": [
    "#Convert from json to Geojson structure\n",
    "temp_dict = [{\"type\": dic[\"track.type\"],\n",
    "              \"features\": dic[\"track.features\"],\n",
    "              \"travel_time\": dic[\"travel_time\"], \n",
    "              \"idunplug_station\": dic[\"idunplug_station\"],\n",
    "              \"idplug_station\": dic[\"idplug_station\"],\n",
    "              \"date\": dic[\"unplug_hourTime.$date\"][:13]} for dic in final]"
   ]
  },
  {
   "cell_type": "code",
   "execution_count": 9,
   "metadata": {},
   "outputs": [],
   "source": [
    "#Arrenge time data to go inside properties of tracks\n",
    "for r in range(len(temp_dict)): \n",
    "    grande= temp_dict[r]['features']\n",
    "    for x in range(len(grande)):\n",
    "        pequeño= grande[x]['properties']\n",
    "        pequeño['id']= int(r)\n",
    "        pequeño['travel_time']= temp_dict[r][\"travel_time\"]\n",
    "        pequeño['idunplug_station']= temp_dict[r][\"idunplug_station\"]\n",
    "        pequeño['idplug_station']= temp_dict[r][\"idplug_station\"]\n",
    "        pequeño['date']= temp_dict[r][\"date\"]"
   ]
  },
  {
   "cell_type": "code",
   "execution_count": null,
   "metadata": {},
   "outputs": [],
   "source": [
    "#save tracks to file \n",
    "with open ('tracks.json', 'w') as result: \n",
    "    result.write(json.dumps(temp_dict))"
   ]
  }
 ],
 "metadata": {
  "kernelspec": {
   "display_name": "Python 3",
   "language": "python",
   "name": "python3"
  },
  "language_info": {
   "codemirror_mode": {
    "name": "ipython",
    "version": 3
   },
   "file_extension": ".py",
   "mimetype": "text/x-python",
   "name": "python",
   "nbconvert_exporter": "python",
   "pygments_lexer": "ipython3",
   "version": "3.7.6"
  }
 },
 "nbformat": 4,
 "nbformat_minor": 4
}
