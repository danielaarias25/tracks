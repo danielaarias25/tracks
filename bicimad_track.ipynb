{
 "cells": [
  {
   "cell_type": "code",
   "execution_count": 10,
   "metadata": {},
   "outputs": [],
   "source": [
    "#first, we import libraries \n",
    "import os\n",
    "import json \n",
    "import pandas as pd\n",
    "from pandas.io.json._normalize import nested_to_record    \n",
    "\n",
    "#We specify our work directory\n",
    "os.chdir(r'C:\\Users\\Usuario\\Documents\\Daniela Arias\\Tesis\\clases\\ClasesJuanC_15Abril2021\\Practica')"
   ]
  },
  {
   "cell_type": "code",
   "execution_count": 11,
   "metadata": {},
   "outputs": [],
   "source": [
    "#Read file and populate our empty list so that it becomes our list of dicts\n",
    "base = []\n",
    "for line in open('201806_Usage_Bicimad.json', 'r'):\n",
    "    base.append(json.loads(line))"
   ]
  },
  {
   "cell_type": "code",
   "execution_count": 12,
   "metadata": {},
   "outputs": [],
   "source": [
    "#clean our dataset a little bit\n",
    "for dic in base: \n",
    "    del dic['user_day_code']\n",
    "    del dic['idplug_base']\n",
    "    del dic['idunplug_base']\n",
    "    del dic['zip_code']"
   ]
  },
  {
   "cell_type": "code",
   "execution_count": 13,
   "metadata": {},
   "outputs": [],
   "source": [
    "#keep only those records that have track data\n",
    "d = [k for k in base if 'track' in k]"
   ]
  },
  {
   "cell_type": "code",
   "execution_count": 14,
   "metadata": {},
   "outputs": [],
   "source": [
    "#Remove nested dictionaries\n",
    "final = nested_to_record(d)"
   ]
  },
  {
   "cell_type": "code",
   "execution_count": 15,
   "metadata": {},
   "outputs": [
    {
     "ename": "KeyboardInterrupt",
     "evalue": "",
     "output_type": "error",
     "traceback": [
      "\u001b[1;31m---------------------------------------------------------------------------\u001b[0m",
      "\u001b[1;31mKeyboardInterrupt\u001b[0m                         Traceback (most recent call last)",
      "\u001b[1;32m<ipython-input-15-22e0a0b3f2ca>\u001b[0m in \u001b[0;36m<module>\u001b[1;34m\u001b[0m\n\u001b[0;32m      6\u001b[0m                  \u001b[1;34m\"idunplug_station\"\u001b[0m\u001b[1;33m:\u001b[0m \u001b[0mdic\u001b[0m\u001b[1;33m[\u001b[0m\u001b[1;34m\"idunplug_station\"\u001b[0m\u001b[1;33m]\u001b[0m\u001b[1;33m,\u001b[0m\u001b[1;33m\u001b[0m\u001b[1;33m\u001b[0m\u001b[0m\n\u001b[0;32m      7\u001b[0m                  \u001b[1;34m\"idplug_station\"\u001b[0m\u001b[1;33m:\u001b[0m \u001b[0mdic\u001b[0m\u001b[1;33m[\u001b[0m\u001b[1;34m\"idplug_station\"\u001b[0m\u001b[1;33m]\u001b[0m\u001b[1;33m,\u001b[0m\u001b[1;33m\u001b[0m\u001b[1;33m\u001b[0m\u001b[0m\n\u001b[1;32m----> 8\u001b[1;33m                  \"date\": dic[\"unplug_hourTime.$date\"][:13]} for dic in final]\n\u001b[0m",
      "\u001b[1;32m<ipython-input-15-22e0a0b3f2ca>\u001b[0m in \u001b[0;36m<listcomp>\u001b[1;34m(.0)\u001b[0m\n\u001b[0;32m      6\u001b[0m                  \u001b[1;34m\"idunplug_station\"\u001b[0m\u001b[1;33m:\u001b[0m \u001b[0mdic\u001b[0m\u001b[1;33m[\u001b[0m\u001b[1;34m\"idunplug_station\"\u001b[0m\u001b[1;33m]\u001b[0m\u001b[1;33m,\u001b[0m\u001b[1;33m\u001b[0m\u001b[1;33m\u001b[0m\u001b[0m\n\u001b[0;32m      7\u001b[0m                  \u001b[1;34m\"idplug_station\"\u001b[0m\u001b[1;33m:\u001b[0m \u001b[0mdic\u001b[0m\u001b[1;33m[\u001b[0m\u001b[1;34m\"idplug_station\"\u001b[0m\u001b[1;33m]\u001b[0m\u001b[1;33m,\u001b[0m\u001b[1;33m\u001b[0m\u001b[1;33m\u001b[0m\u001b[0m\n\u001b[1;32m----> 8\u001b[1;33m                  \"date\": dic[\"unplug_hourTime.$date\"][:13]} for dic in final]\n\u001b[0m",
      "\u001b[1;31mKeyboardInterrupt\u001b[0m: "
     ]
    }
   ],
   "source": [
    "#Convert to Geojson \n",
    "for n in range(len(final)): \n",
    "    temp_dict = [{\"type\": dic[\"track.type\"],\n",
    "                  \"features\": dic[\"track.features\"], \n",
    "                 \"travel_time\": dic[\"travel_time\"], \n",
    "                 \"idunplug_station\": dic[\"idunplug_station\"], \n",
    "                 \"idplug_station\": dic[\"idplug_station\"], \n",
    "                 \"date\": dic[\"unplug_hourTime.$date\"][:13]} for dic in final]"
   ]
  },
  {
   "cell_type": "code",
   "execution_count": 16,
   "metadata": {},
   "outputs": [],
   "source": [
    "#Arrenge time data to go inside properties of tracks\n",
    "for r in range(len(temp_dict)): \n",
    "    grande= temp_dict[r]['features']\n",
    "    for x in range(len(grande)):\n",
    "        pequeño= grande[x]['properties']\n",
    "        pequeño['id']= int(r)\n",
    "        pequeño['travel_time']= temp_dict[r][\"travel_time\"]\n",
    "        pequeño['idunplug_station']= temp_dict[r][\"idunplug_station\"]\n",
    "        pequeño['idplug_station']= temp_dict[r][\"idplug_station\"]\n",
    "        pequeño['date']= temp_dict[r][\"date\"]"
   ]
  },
  {
   "cell_type": "code",
   "execution_count": 17,
   "metadata": {},
   "outputs": [],
   "source": [
    "#save tracks to file \n",
    "with open ('tracks.json', 'w') as result: \n",
    "    result.write(json.dumps(temp_dict))"
   ]
  },
  {
   "cell_type": "code",
   "execution_count": null,
   "metadata": {},
   "outputs": [],
   "source": []
  }
 ],
 "metadata": {
  "kernelspec": {
   "display_name": "Python 3",
   "language": "python",
   "name": "python3"
  },
  "language_info": {
   "codemirror_mode": {
    "name": "ipython",
    "version": 3
   },
   "file_extension": ".py",
   "mimetype": "text/x-python",
   "name": "python",
   "nbconvert_exporter": "python",
   "pygments_lexer": "ipython3",
   "version": "3.7.6"
  }
 },
 "nbformat": 4,
 "nbformat_minor": 4
}
